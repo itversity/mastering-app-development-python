{
 "cells": [
  {
   "cell_type": "markdown",
   "id": "1b206716",
   "metadata": {},
   "source": [
    "## Read Delimited data using CSV\n",
    "\n",
    "Let us understand how to read data from delimited files using Python I/O functions as well as `csv`. `csv` can be used to read iterable of delimited strings into iterable of tuples or dicts.\n",
    "* We will go through the steps related to how to read the contents of the file into list of tuples. We will also see how we can apply transformations such as changing the data types of elements in each of the tuple.\n",
    "* Also, we will go through the steps related to how to read the contents of the file into list of dicts."
   ]
  },
  {
   "cell_type": "code",
   "execution_count": null,
   "id": "33352e8b",
   "metadata": {},
   "outputs": [],
   "source": [
    "!ls -lhtr /data/retail_db/orders"
   ]
  },
  {
   "cell_type": "code",
   "execution_count": null,
   "id": "fe3a5f69",
   "metadata": {},
   "outputs": [],
   "source": [
    "!head -5 /data/retail_db/orders/part-00000"
   ]
  },
  {
   "cell_type": "code",
   "execution_count": null,
   "id": "e77d78c4",
   "metadata": {},
   "outputs": [],
   "source": [
    "import csv"
   ]
  },
  {
   "cell_type": "code",
   "execution_count": null,
   "id": "377c703b",
   "metadata": {},
   "outputs": [],
   "source": [
    "orders_file = open('/data/retail_db/orders/part-00000')"
   ]
  },
  {
   "cell_type": "code",
   "execution_count": null,
   "id": "4789c655",
   "metadata": {},
   "outputs": [],
   "source": [
    "orders_list = orders_file.read().splitlines()"
   ]
  },
  {
   "cell_type": "code",
   "execution_count": null,
   "id": "8ac7d27e",
   "metadata": {},
   "outputs": [],
   "source": [
    "type(orders_list)"
   ]
  },
  {
   "cell_type": "code",
   "execution_count": null,
   "id": "fde4dfdc",
   "metadata": {},
   "outputs": [],
   "source": [
    "orders_list[:10]"
   ]
  },
  {
   "cell_type": "code",
   "execution_count": null,
   "id": "8dbf50ad",
   "metadata": {},
   "outputs": [],
   "source": [
    "csv.reader?"
   ]
  },
  {
   "cell_type": "code",
   "execution_count": null,
   "id": "c6fc3b0c",
   "metadata": {},
   "outputs": [],
   "source": [
    "orders = csv.reader(orders_list)"
   ]
  },
  {
   "cell_type": "code",
   "execution_count": null,
   "id": "e01e3d74",
   "metadata": {},
   "outputs": [],
   "source": [
    "type(orders)"
   ]
  },
  {
   "cell_type": "code",
   "execution_count": null,
   "id": "fd51af12",
   "metadata": {},
   "outputs": [],
   "source": [
    "orders = csv.reader(orders_list)\n",
    "list(orders)[:10]"
   ]
  },
  {
   "cell_type": "code",
   "execution_count": null,
   "id": "312f8cac",
   "metadata": {},
   "outputs": [],
   "source": [
    "orders = csv.reader(orders_list)\n",
    "order = list(orders)[0]"
   ]
  },
  {
   "cell_type": "code",
   "execution_count": null,
   "id": "0d74266b",
   "metadata": {},
   "outputs": [],
   "source": [
    "order"
   ]
  },
  {
   "cell_type": "code",
   "execution_count": null,
   "id": "8f9fde0d",
   "metadata": {},
   "outputs": [],
   "source": [
    "order[0]"
   ]
  },
  {
   "cell_type": "code",
   "execution_count": null,
   "id": "2b8bf1e7",
   "metadata": {},
   "outputs": [],
   "source": [
    "int(order[0]) if order[0].isdigit() else order[0]"
   ]
  },
  {
   "cell_type": "code",
   "execution_count": null,
   "id": "848171d1",
   "metadata": {},
   "outputs": [],
   "source": [
    "list(map(lambda item: int(item) if item.isdigit() else item, order))"
   ]
  },
  {
   "cell_type": "code",
   "execution_count": null,
   "id": "41753ad9",
   "metadata": {},
   "outputs": [],
   "source": [
    "tuple(map(lambda item: int(item) if item.isdigit() else item, order))"
   ]
  },
  {
   "cell_type": "code",
   "execution_count": null,
   "id": "188e72e7",
   "metadata": {},
   "outputs": [],
   "source": [
    "orders = csv.reader(orders_list)\n",
    "\n",
    "list(\n",
    "    tuple(\n",
    "        map(\n",
    "            lambda order: tuple(map(lambda item: int(item) if item.isdigit() else item, order)), \n",
    "            orders\n",
    "        )\n",
    "    )\n",
    ")[:10]"
   ]
  },
  {
   "cell_type": "markdown",
   "id": "2485be70",
   "metadata": {},
   "source": [
    "* Here is the code to convert the data in a CSV file to list of tuples using `csv`."
   ]
  },
  {
   "cell_type": "code",
   "execution_count": null,
   "id": "925f155e",
   "metadata": {},
   "outputs": [],
   "source": [
    "orders_file = open('/data/retail_db/orders/part-00000')\n",
    "orders_list = orders_file.read().splitlines()\n",
    "\n",
    "orders = csv.reader(orders_list)\n",
    "\n",
    "list(\n",
    "    tuple(\n",
    "        map(\n",
    "            lambda order: tuple(map(lambda item: int(item) if item.isdigit() else item, order)), \n",
    "            orders\n",
    "        )\n",
    "    )\n",
    ")[:10]"
   ]
  },
  {
   "cell_type": "markdown",
   "id": "e3aad9ea",
   "metadata": {},
   "source": [
    "* Let us see how we can read iterable of CSV strings into list of dict type objects using `csv.DictReader`."
   ]
  },
  {
   "cell_type": "code",
   "execution_count": null,
   "id": "316c2bed",
   "metadata": {},
   "outputs": [],
   "source": [
    "csv.DictReader?"
   ]
  },
  {
   "cell_type": "code",
   "execution_count": null,
   "id": "c5580a9e",
   "metadata": {},
   "outputs": [],
   "source": [
    "users = [\n",
    "    '1,Scott,Tiger',\n",
    "    '2,Donald,Duck'\n",
    "]"
   ]
  },
  {
   "cell_type": "code",
   "execution_count": null,
   "id": "47408e77",
   "metadata": {},
   "outputs": [],
   "source": [
    "csv.DictReader(users, fieldnames=['user_id', 'user_first_name', 'user_last_name'])"
   ]
  },
  {
   "cell_type": "code",
   "execution_count": null,
   "id": "6ab3fbcf",
   "metadata": {},
   "outputs": [],
   "source": [
    "list(csv.DictReader(users, fieldnames=['user_id', 'user_first_name', 'user_last_name']))"
   ]
  },
  {
   "cell_type": "code",
   "execution_count": null,
   "id": "104a93d0",
   "metadata": {},
   "outputs": [],
   "source": [
    "users_dicts = list(csv.DictReader(users, fieldnames=['user_id', 'user_first_name', 'user_last_name']))"
   ]
  },
  {
   "cell_type": "code",
   "execution_count": null,
   "id": "9979c124",
   "metadata": {},
   "outputs": [],
   "source": [
    "users_dicts"
   ]
  },
  {
   "cell_type": "code",
   "execution_count": null,
   "id": "ebb8eae4",
   "metadata": {},
   "outputs": [],
   "source": [
    "users_dicts[0]"
   ]
  },
  {
   "cell_type": "code",
   "execution_count": null,
   "id": "0731b64e",
   "metadata": {},
   "outputs": [],
   "source": [
    "users_dicts[0]['user_first_name']"
   ]
  },
  {
   "cell_type": "code",
   "execution_count": null,
   "id": "0837e618",
   "metadata": {},
   "outputs": [],
   "source": [
    "orders_file = open('/data/retail_db/orders/part-00000')"
   ]
  },
  {
   "cell_type": "code",
   "execution_count": null,
   "id": "555aa69a",
   "metadata": {},
   "outputs": [],
   "source": [
    "orders_list = orders_file.read().splitlines()"
   ]
  },
  {
   "cell_type": "code",
   "execution_count": null,
   "id": "f49f08da",
   "metadata": {},
   "outputs": [],
   "source": [
    "orders_list[:10]"
   ]
  },
  {
   "cell_type": "code",
   "execution_count": null,
   "id": "37853b1e",
   "metadata": {},
   "outputs": [],
   "source": [
    "list(csv.DictReader(orders_list, fieldnames=['order_id', 'order_date', 'order_customer_id', 'order_status']))[:10]"
   ]
  },
  {
   "cell_type": "code",
   "execution_count": null,
   "id": "ef6dda70",
   "metadata": {},
   "outputs": [],
   "source": [
    "orders = list(csv.DictReader(orders_list, fieldnames=['order_id', 'order_date', 'order_customer_id', 'order_status']))"
   ]
  },
  {
   "cell_type": "code",
   "execution_count": null,
   "id": "a1c2c2a6",
   "metadata": {},
   "outputs": [],
   "source": [
    "orders[:3]"
   ]
  },
  {
   "cell_type": "code",
   "execution_count": null,
   "id": "cf6e6254",
   "metadata": {},
   "outputs": [],
   "source": [
    "order = orders[0]"
   ]
  },
  {
   "cell_type": "code",
   "execution_count": null,
   "id": "d7734088",
   "metadata": {},
   "outputs": [],
   "source": [
    "type(order)"
   ]
  },
  {
   "cell_type": "code",
   "execution_count": null,
   "id": "84aed4c3",
   "metadata": {},
   "outputs": [],
   "source": [
    "order"
   ]
  },
  {
   "cell_type": "code",
   "execution_count": null,
   "id": "2f8061f5",
   "metadata": {},
   "outputs": [],
   "source": [
    "order['order_date']"
   ]
  }
 ],
 "metadata": {
  "kernelspec": {
   "display_name": "Python 3 (ipykernel)",
   "language": "python",
   "name": "python3"
  },
  "language_info": {
   "codemirror_mode": {
    "name": "ipython",
    "version": 3
   },
   "file_extension": ".py",
   "mimetype": "text/x-python",
   "name": "python",
   "nbconvert_exporter": "python",
   "pygments_lexer": "ipython3",
   "version": "3.8.12"
  }
 },
 "nbformat": 4,
 "nbformat_minor": 5
}
