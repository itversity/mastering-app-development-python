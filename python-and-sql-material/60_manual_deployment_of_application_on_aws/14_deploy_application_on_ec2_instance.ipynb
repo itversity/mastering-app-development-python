{
 "cells": [
  {
   "cell_type": "markdown",
   "id": "47b8f945-f178-491b-a4f2-91ac1f7a89f3",
   "metadata": {},
   "source": [
    "## Deploy Application on EC2 Instance\n",
    "\n",
    "Let us go ahead and manually deploy the application on EC2 Instance.\n",
    "* Create user by name **lms** using `adduser` and make sure SSH Public key content is copied to **authorized_keys** under **/home/lms/.ssh/authorized_keys**.\n",
    "  * Run `ssh-keygen -m PEM -t rsa -b 4096`.\n",
    "  * Make sure to provide the path under the home directory on your mac or PC. In my case it is **/Users/itversity/.ssh/lmsdemo**.\n",
    "  * Copy the contents of **lmsdemo.pub**.\n",
    "  * Login into EC2 instance as **ubuntu**.\n",
    "  * Sudo to **lms** - `sudo su - lms`\n",
    "  * Create a folder by name **/home/lms/.ssh** - `mkdir -p /home/lms/.ssh`.\n",
    "  * Make sure the permissions are changed on **home/lms/.ssh** to 700 - `chmod 700 -R /home/lms/.ssh`.\n",
    "  * Paste the public key content to **/home/lms/.ssh/authorized_keys**.\n",
    "* Create a folder by name **/apps** on EC2 instance. Make sure to change the ownership to **lms**. \n",
    "```shell\n",
    "# Login as sudo user - ubuntu\n",
    "sudo mkdir -p /apps\n",
    "sudo chown -R lms:lms /apps\n",
    "```\n",
    "* Clone the repository or copy directly to the EC2 instance"
   ]
  },
  {
   "cell_type": "code",
   "execution_count": null,
   "id": "94a0faac-37d7-4c22-b7a9-42a53d408247",
   "metadata": {},
   "outputs": [],
   "source": []
  }
 ],
 "metadata": {
  "kernelspec": {
   "display_name": "Python 3 (ipykernel)",
   "language": "python",
   "name": "python3"
  },
  "language_info": {
   "codemirror_mode": {
    "name": "ipython",
    "version": 3
   },
   "file_extension": ".py",
   "mimetype": "text/x-python",
   "name": "python",
   "nbconvert_exporter": "python",
   "pygments_lexer": "ipython3",
   "version": "3.8.12"
  }
 },
 "nbformat": 4,
 "nbformat_minor": 5
}
