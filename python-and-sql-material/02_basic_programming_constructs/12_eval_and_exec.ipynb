{
  "cells": [
    {
      "cell_type": "markdown",
      "id": "377dca13",
      "metadata": {},
      "source": [
        "## eval and exec\n",
        "\n",
        "Let us understand how we can use `eval` and `exec` in Python.\n",
        "\n",
        "* Typically we perform arithmetic operations like this `a = b + c`.\n",
        "* We can also use `eval` and `exec` for the same.\n",
        "* `eval` typically evaluates the expression. We need to assign the value to some variable when we use `eval`.\n",
        "* `exec` executes the statement."
      ]
    },
    {
      "cell_type": "code",
      "execution_count": null,
      "id": "ec9fc426",
      "metadata": {},
      "outputs": [],
      "source": [
        "b = 10"
      ]
    },
    {
      "cell_type": "code",
      "execution_count": null,
      "id": "ce86c04d",
      "metadata": {},
      "outputs": [],
      "source": [
        "c = 20"
      ]
    },
    {
      "cell_type": "code",
      "execution_count": null,
      "id": "e3348ebd",
      "metadata": {},
      "outputs": [],
      "source": [
        "a = b + c"
      ]
    },
    {
      "cell_type": "code",
      "execution_count": null,
      "id": "b81708f8",
      "metadata": {},
      "outputs": [],
      "source": [
        "a"
      ]
    },
    {
      "cell_type": "code",
      "execution_count": null,
      "id": "b52bac4c",
      "metadata": {},
      "outputs": [],
      "source": [
        "eval('b + c') # Typically we assign the result of eval to a variable or object"
      ]
    },
    {
      "cell_type": "code",
      "execution_count": null,
      "id": "21a36a75",
      "metadata": {},
      "outputs": [],
      "source": [
        "exec('d = b + c') # variable or object will be created when we use exec"
      ]
    },
    {
      "cell_type": "code",
      "execution_count": null,
      "id": "1682a88f",
      "metadata": {},
      "outputs": [],
      "source": [
        "d"
      ]
    }
  ],
  "metadata": {
    "kernelspec": {
      "display_name": "Python 3",
      "language": "python",
      "name": "python3"
    },
    "language_info": {
      "codemirror_mode": {
        "name": "ipython",
        "version": 3
      },
      "file_extension": ".py",
      "mimetype": "text/x-python",
      "name": "python",
      "nbconvert_exporter": "python",
      "pygments_lexer": "ipython3",
      "version": "3.6.12"
    }
  },
  "nbformat": 4,
  "nbformat_minor": 5
}