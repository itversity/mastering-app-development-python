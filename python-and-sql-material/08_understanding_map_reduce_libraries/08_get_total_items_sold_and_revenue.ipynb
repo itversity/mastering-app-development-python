{
  "cells": [
    {
      "cell_type": "markdown",
      "metadata": {},
      "source": [
        "### Get total items sold and revenue\n",
        "\n",
        "Use order items data set and get total number of items sold as well as total revenue generated for a given product_id.\n",
        "* Filter for items using `filter` related to a given product_id.\n",
        "* Apply `map` to get order_item_quantity and order_item_subtotal.\n",
        "* Use `reduce` to get total quantity and revenue for the items related to a given product_id."
      ]
    },
    {
      "cell_type": "code",
      "execution_count": null,
      "metadata": {},
      "outputs": [],
      "source": [
        "%run 02_preparing_data_sets.ipynb"
      ]
    },
    {
      "cell_type": "code",
      "execution_count": null,
      "metadata": {},
      "outputs": [],
      "source": [
        "order_items[:10]"
      ]
    },
    {
      "cell_type": "code",
      "execution_count": null,
      "metadata": {},
      "outputs": [],
      "source": [
        "len(order_items)"
      ]
    },
    {
      "cell_type": "code",
      "execution_count": null,
      "metadata": {},
      "outputs": [],
      "source": [
        "t1 = (1, 200.0)"
      ]
    },
    {
      "cell_type": "code",
      "execution_count": null,
      "metadata": {},
      "outputs": [],
      "source": [
        "t2 = (2, 300.0)"
      ]
    },
    {
      "cell_type": "code",
      "execution_count": null,
      "metadata": {},
      "outputs": [],
      "source": [
        "res = (0, 0.0)"
      ]
    },
    {
      "cell_type": "code",
      "execution_count": null,
      "metadata": {},
      "outputs": [],
      "source": [
        "res = (res[0] + t1[0], res[1] + t1[1])"
      ]
    },
    {
      "cell_type": "code",
      "execution_count": null,
      "metadata": {},
      "outputs": [],
      "source": [
        "res"
      ]
    },
    {
      "cell_type": "code",
      "execution_count": null,
      "metadata": {},
      "outputs": [],
      "source": [
        "res = (res[0] + t2[0], res[1] + t2[1])"
      ]
    },
    {
      "cell_type": "code",
      "execution_count": null,
      "metadata": {},
      "outputs": [],
      "source": [
        "res"
      ]
    },
    {
      "cell_type": "code",
      "execution_count": null,
      "metadata": {},
      "outputs": [],
      "source": [
        "items_for_product = filter(\n",
        "    lambda order_item: int(order_item.split(',')[2]) == 502,\n",
        "    order_items\n",
        ")"
      ]
    },
    {
      "cell_type": "code",
      "execution_count": null,
      "metadata": {},
      "outputs": [],
      "source": [
        "list(items_for_product)[:10]"
      ]
    },
    {
      "cell_type": "code",
      "execution_count": null,
      "metadata": {},
      "outputs": [],
      "source": [
        "items_for_product = filter(\n",
        "    lambda order_item: int(order_item.split(',')[2]) == 502,\n",
        "    order_items\n",
        ")\n",
        "item_details = map(\n",
        "    lambda order_item: (int(order_item.split(',')[3]), float(order_item.split(',')[4])),\n",
        "    items_for_product\n",
        ")"
      ]
    },
    {
      "cell_type": "code",
      "execution_count": null,
      "metadata": {},
      "outputs": [],
      "source": [
        "list(item_details)[:10]"
      ]
    },
    {
      "cell_type": "code",
      "execution_count": null,
      "metadata": {},
      "outputs": [],
      "source": [
        "items_for_product = filter(\n",
        "    lambda order_item: int(order_item.split(',')[2]) == 502,\n",
        "    order_items\n",
        ")\n",
        "item_details = map(\n",
        "    lambda order_item: (int(order_item.split(',')[3]), float(order_item.split(',')[4])),\n",
        "    items_for_product\n",
        ")\n",
        "reduce(\n",
        "    lambda tot, ele: (tot[0] + ele[0], tot[1] + ele[1]),\n",
        "    item_details\n",
        ")"
      ]
    },
    {
      "cell_type": "code",
      "execution_count": null,
      "metadata": {},
      "outputs": [],
      "source": [
        "items_for_product = filter(\n",
        "    lambda order_item: int(order_item.split(',')[2]) == 502,\n",
        "    order_items\n",
        ")\n",
        "item_details = map(\n",
        "    lambda order_item: (int(order_item.split(',')[3]), float(order_item.split(',')[4])),\n",
        "    items_for_product\n",
        ")\n",
        "reduce(\n",
        "    lambda tot, ele: (tot[0] + ele[0], tot[1] + ele[1]),\n",
        "    item_details\n",
        ")"
      ]
    }
  ],
  "metadata": {
    "kernelspec": {
      "display_name": "Python 3",
      "language": "python",
      "name": "python3"
    },
    "language_info": {
      "codemirror_mode": {
        "name": "ipython",
        "version": 3
      },
      "file_extension": ".py",
      "mimetype": "text/x-python",
      "name": "python",
      "nbconvert_exporter": "python",
      "pygments_lexer": "ipython3",
      "version": "3.6.12"
    }
  },
  "nbformat": 4,
  "nbformat_minor": 4
}