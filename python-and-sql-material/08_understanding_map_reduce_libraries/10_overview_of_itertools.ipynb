{
  "cells": [
    {
      "cell_type": "markdown",
      "metadata": {},
      "source": [
        "## Overview of itertools\n",
        "\n",
        "Let us go through one of the important library to manipulate collections called as `itertools`.\n",
        "* Functions such as `filter` and `map` are part of core Python libraries.\n",
        "* `reduce` is part of `functools`.\n",
        "* It is not possible to use these functions to perform advanced operations such as grouped aggregations, joins etc.\n",
        "* Python have several higher level libraries which provide required functionality to perform advanced aggregations such as grouped aggregations, joins etc. `itertools` is one of the popular library to manipulate collections for such advanced operations."
      ]
    },
    {
      "cell_type": "code",
      "execution_count": null,
      "metadata": {},
      "outputs": [],
      "source": [
        "import itertools"
      ]
    },
    {
      "cell_type": "code",
      "execution_count": null,
      "metadata": {},
      "outputs": [],
      "source": [
        "itertools?"
      ]
    },
    {
      "cell_type": "markdown",
      "metadata": {},
      "source": [
        "### Task 1 - Cumulative Sales\n",
        "\n",
        "Get cumulative sales from list of transactions."
      ]
    },
    {
      "cell_type": "code",
      "execution_count": null,
      "metadata": {},
      "outputs": [],
      "source": [
        "ns = [1, 2, 3, 4]"
      ]
    },
    {
      "cell_type": "code",
      "execution_count": null,
      "metadata": {},
      "outputs": [],
      "source": [
        "import itertools as iter"
      ]
    },
    {
      "cell_type": "code",
      "execution_count": null,
      "metadata": {},
      "outputs": [],
      "source": [
        "iter.accumulate?"
      ]
    },
    {
      "cell_type": "code",
      "execution_count": null,
      "metadata": {},
      "outputs": [],
      "source": [
        "list(iter.accumulate(ns))[:10]"
      ]
    },
    {
      "cell_type": "code",
      "execution_count": null,
      "metadata": {},
      "outputs": [],
      "source": [
        "import operator as o\n",
        "list(iter.accumulate(ns, o.mul))[:10]"
      ]
    },
    {
      "cell_type": "code",
      "execution_count": null,
      "metadata": {},
      "outputs": [],
      "source": [
        "sales = [\n",
        "    (202101, 10500),\n",
        "    (202102, 11250),\n",
        "    (202103, 13450),\n",
        "    (202104, 8500),\n",
        "    (202105, 9250),\n",
        "    (202106, 8760),\n",
        "    (202107, 12150),\n",
        "    (202108, 11850),\n",
        "    (202109, 10950),\n",
        "    (202110, 9250),\n",
        "    (202111, 14250),\n",
        "    (202112, 13650),\n",
        "]"
      ]
    },
    {
      "cell_type": "code",
      "execution_count": null,
      "metadata": {},
      "outputs": [],
      "source": [
        "iter.accumulate?"
      ]
    },
    {
      "cell_type": "code",
      "execution_count": null,
      "metadata": {},
      "outputs": [],
      "source": [
        "sales"
      ]
    },
    {
      "cell_type": "code",
      "execution_count": null,
      "metadata": {},
      "outputs": [],
      "source": [
        "list(iter.accumulate(map(lambda sale: sale[1], sales)))"
      ]
    },
    {
      "cell_type": "markdown",
      "metadata": {},
      "source": [
        "### Task 2 - Compute Commission Amount\n",
        "\n",
        "Create a collection with sales and commission percentage. Using that collection compute total commission amount. If the commission percent is None or not present, treat it as 0.\n",
        "* Each element in the collection should be a tuple.\n",
        "* First element is the sales amount and second element is commission percentage.\n",
        "* Commission for each sale can be computed by multiplying commission percentage with sales (make sure to divide commission percentage by 100).\n",
        "* Some of the records does not have commission percentage, in that case commission amount for that sale shall be 0"
      ]
    },
    {
      "cell_type": "code",
      "execution_count": null,
      "metadata": {},
      "outputs": [],
      "source": [
        "transactions = [(376.0, 8),\n",
        "(548.23, 14),\n",
        "(107.93, 8),\n",
        "(838.22, 14),\n",
        "(846.85, 21),\n",
        "(234.84, None),\n",
        "(850.2, 21),\n",
        "(992.2, 21),\n",
        "(267.01, None),\n",
        "(958.91, 21),\n",
        "(412.59, None),\n",
        "(283.14, None),\n",
        "(350.01, 14),\n",
        "(226.95, None),\n",
        "(132.7, 14)]"
      ]
    },
    {
      "cell_type": "code",
      "execution_count": null,
      "metadata": {},
      "outputs": [],
      "source": [
        "help(iter.starmap)"
      ]
    },
    {
      "cell_type": "code",
      "execution_count": null,
      "metadata": {},
      "outputs": [],
      "source": [
        "a = iter.starmap(lambda rec: rec[0] * rec[1] if rec[1] else 0, transactions)"
      ]
    },
    {
      "cell_type": "code",
      "execution_count": null,
      "metadata": {},
      "outputs": [],
      "source": [
        "for i in a: print(i) # This will fail. We have to pass elements from each tuple separately."
      ]
    },
    {
      "cell_type": "code",
      "execution_count": null,
      "metadata": {},
      "outputs": [],
      "source": [
        "a = iter.starmap(lambda sale_amount, comm_pct: ((sale_amount, comm_pct), round(sale_amount * comm_pct, 2)) if comm_pct else ((sale_amount, comm_pct), 0), transactions)"
      ]
    },
    {
      "cell_type": "code",
      "execution_count": null,
      "metadata": {},
      "outputs": [],
      "source": [
        "for i in a: print(i)"
      ]
    },
    {
      "cell_type": "code",
      "execution_count": null,
      "metadata": {},
      "outputs": [],
      "source": [
        "iter.chain?"
      ]
    },
    {
      "cell_type": "code",
      "execution_count": null,
      "metadata": {},
      "outputs": [],
      "source": [
        "l1 = [1, 2, 3, 4]\n",
        "l2 = [4, 5, 6]\n",
        "\n",
        "list(iter.chain(l1, l2))"
      ]
    }
  ],
  "metadata": {
    "kernelspec": {
      "display_name": "Python 3",
      "language": "python",
      "name": "python3"
    },
    "language_info": {
      "codemirror_mode": {
        "name": "ipython",
        "version": 3
      },
      "file_extension": ".py",
      "mimetype": "text/x-python",
      "name": "python",
      "nbconvert_exporter": "python",
      "pygments_lexer": "ipython3",
      "version": "3.6.12"
    }
  },
  "nbformat": 4,
  "nbformat_minor": 4
}