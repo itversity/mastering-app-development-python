{
 "cells": [
  {
   "cell_type": "markdown",
   "metadata": {},
   "source": [
    "## Exercises - Pandas Data Frames\n",
    "\n",
    "Here are some of the Exercises related to Pandas.\n",
    "* Get all the orders which belong to the month of 2013 August\n",
    "* Get all the orders which belong to the months of August, September and October in 2013.\n",
    "* Get count of orders by status for the month of 2014 January\n",
    "* Get all the records from orders where there are no corresponding records in order_items\n",
    "* Get all the customers who have not placed any orders\n",
    "* Get the revenue by status"
   ]
  }
 ],
 "metadata": {
  "kernelspec": {
   "display_name": "Python 3 (ipykernel)",
   "language": "python",
   "name": "python3"
  },
  "language_info": {
   "codemirror_mode": {
    "name": "ipython",
    "version": 3
   },
   "file_extension": ".py",
   "mimetype": "text/x-python",
   "name": "python",
   "nbconvert_exporter": "python",
   "pygments_lexer": "ipython3",
   "version": "3.8.12"
  }
 },
 "nbformat": 4,
 "nbformat_minor": 4
}
