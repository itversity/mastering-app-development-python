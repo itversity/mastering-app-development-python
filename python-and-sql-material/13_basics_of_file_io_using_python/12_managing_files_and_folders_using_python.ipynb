{
 "cells": [
  {
   "cell_type": "markdown",
   "id": "2cbdc1be",
   "metadata": {},
   "source": [
    "## Folders and Files\n",
    "\n",
    "Let us quickly recap details about folders and files, especially using Linux. You need to be comfortable with the following.\n",
    "* Differentiating Files and Folders. Keep in mind that Folders and Directories means the samething.\n",
    "* Understanding Absolute or Fully Qualified Path.\n",
    "* Understanding Relative Path.\n",
    "* Understanding File or Folder permissions."
   ]
  },
  {
   "cell_type": "markdown",
   "id": "3b65a0a8",
   "metadata": {},
   "source": [
    "We will be running the following commands using Python `subprocess` module. That way, you will also pick up the relevance of `subprocess` as well.\n",
    "\n",
    "```shell\n",
    "# Listing files and folders under /data/retail_db\n",
    "ls -ltr /data/retail_db\n",
    "\n",
    "# Listing files in the present working directory\n",
    "ls -ltr\n",
    "\n",
    "# Listing files in the home directory. ~ represents home directory. It is a key on the keyboard.\n",
    "# You can find the ~ key on the left side of 1 in most of the keyboards.\n",
    "ls -ltr ~\n",
    "```"
   ]
  },
  {
   "cell_type": "code",
   "execution_count": 1,
   "id": "ace810a6",
   "metadata": {},
   "outputs": [],
   "source": [
    "import subprocess"
   ]
  },
  {
   "cell_type": "code",
   "execution_count": 2,
   "id": "87c33c72",
   "metadata": {},
   "outputs": [
    {
     "data": {
      "text/plain": [
       "b'total 0\\ndrwxr-xr-x 3 itversity itversity 96 Nov  9 22:09 categories\\ndrwxr-xr-x 3 itversity itversity 96 Nov  9 22:09 customers\\ndrwxr-xr-x 3 itversity itversity 96 Nov  9 22:09 departments\\ndrwxr-xr-x 3 itversity itversity 96 Nov  9 22:09 order_items\\ndrwxr-xr-x 3 itversity itversity 96 Nov  9 22:09 orders\\ndrwxr-xr-x 3 itversity itversity 96 Nov  9 22:09 products\\n'"
      ]
     },
     "execution_count": 2,
     "metadata": {},
     "output_type": "execute_result"
    }
   ],
   "source": [
    "# Output is not reader friendly.\n",
    "# Output is of type bytes\n",
    "subprocess.check_output('ls -ltr /data/retail_db', shell=True)"
   ]
  },
  {
   "cell_type": "code",
   "execution_count": 3,
   "id": "0623468a",
   "metadata": {},
   "outputs": [
    {
     "data": {
      "text/plain": [
       "'total 0\\ndrwxr-xr-x 3 itversity itversity 96 Nov  9 22:09 categories\\ndrwxr-xr-x 3 itversity itversity 96 Nov  9 22:09 customers\\ndrwxr-xr-x 3 itversity itversity 96 Nov  9 22:09 departments\\ndrwxr-xr-x 3 itversity itversity 96 Nov  9 22:09 order_items\\ndrwxr-xr-x 3 itversity itversity 96 Nov  9 22:09 orders\\ndrwxr-xr-x 3 itversity itversity 96 Nov  9 22:09 products\\n'"
      ]
     },
     "execution_count": 3,
     "metadata": {},
     "output_type": "execute_result"
    }
   ],
   "source": [
    "# We can decode to string and apply string functions\n",
    "# Now the output is of type string\n",
    "subprocess.check_output('ls -ltr /data/retail_db', shell=True).decode('utf-8')"
   ]
  },
  {
   "cell_type": "code",
   "execution_count": 4,
   "id": "2918f955",
   "metadata": {},
   "outputs": [
    {
     "data": {
      "text/plain": [
       "['total 0',\n",
       " 'drwxr-xr-x 3 itversity itversity 96 Nov  9 22:09 categories',\n",
       " 'drwxr-xr-x 3 itversity itversity 96 Nov  9 22:09 customers',\n",
       " 'drwxr-xr-x 3 itversity itversity 96 Nov  9 22:09 departments',\n",
       " 'drwxr-xr-x 3 itversity itversity 96 Nov  9 22:09 order_items',\n",
       " 'drwxr-xr-x 3 itversity itversity 96 Nov  9 22:09 orders',\n",
       " 'drwxr-xr-x 3 itversity itversity 96 Nov  9 22:09 products']"
      ]
     },
     "execution_count": 4,
     "metadata": {},
     "output_type": "execute_result"
    }
   ],
   "source": [
    "# We can use splitlines to convert this big string into list of strings.\n",
    "# splitlines will use new line character as the delimiter.\n",
    "subprocess.check_output('ls -ltr /data/retail_db', shell=True).decode('utf-8').splitlines()"
   ]
  },
  {
   "cell_type": "code",
   "execution_count": 5,
   "id": "697d92d1",
   "metadata": {},
   "outputs": [
    {
     "name": "stdout",
     "output_type": "stream",
     "text": [
      "total 0\n",
      "drwxr-xr-x 3 itversity itversity 96 Nov  9 22:09 categories\n",
      "drwxr-xr-x 3 itversity itversity 96 Nov  9 22:09 customers\n",
      "drwxr-xr-x 3 itversity itversity 96 Nov  9 22:09 departments\n",
      "drwxr-xr-x 3 itversity itversity 96 Nov  9 22:09 order_items\n",
      "drwxr-xr-x 3 itversity itversity 96 Nov  9 22:09 orders\n",
      "drwxr-xr-x 3 itversity itversity 96 Nov  9 22:09 products\n"
     ]
    }
   ],
   "source": [
    "# We can iterate through the list and print one item at a time.\n",
    "# Now the output will be reader friendly\n",
    "output = subprocess.check_output('ls -ltr /data/retail_db', shell=True).decode('utf-8').splitlines()\n",
    "for line in output: print(line)"
   ]
  },
  {
   "cell_type": "code",
   "execution_count": null,
   "id": "65b48778-e961-412e-9bb7-d789859fc41a",
   "metadata": {},
   "outputs": [],
   "source": []
  }
 ],
 "metadata": {
  "kernelspec": {
   "display_name": "Python 3 (ipykernel)",
   "language": "python",
   "name": "python3"
  },
  "language_info": {
   "codemirror_mode": {
    "name": "ipython",
    "version": 3
   },
   "file_extension": ".py",
   "mimetype": "text/x-python",
   "name": "python",
   "nbconvert_exporter": "python",
   "pygments_lexer": "ipython3",
   "version": "3.7.12"
  }
 },
 "nbformat": 4,
 "nbformat_minor": 5
}
