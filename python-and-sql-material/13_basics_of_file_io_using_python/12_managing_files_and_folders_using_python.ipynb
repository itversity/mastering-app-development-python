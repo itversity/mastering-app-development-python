{
 "cells": [
  {
   "cell_type": "markdown",
   "id": "2cbdc1be",
   "metadata": {},
   "source": [
    "## Managing Folders and Files using Python\n",
    "\n",
    "Let us quickly recap details about folders and files, especially using Linux. You need to be comfortable with the following.\n",
    "* Differentiating Files and Folders. Keep in mind that Folders and Directories means the samething.\n",
    "* Understanding Absolute or Fully Qualified Path.\n",
    "* Understanding Relative Path.\n",
    "* Understanding File or Folder permissions.\n",
    "\n",
    "We will first see how we can leverage subprocess to run Linux commands to manage files and then we will go through the above topics."
   ]
  },
  {
   "cell_type": "markdown",
   "id": "3b65a0a8",
   "metadata": {},
   "source": [
    "We will be running the following commands using Python `subprocess` module. That way, you will also pick up the relevance of `subprocess` as well.\n",
    "\n",
    "```shell\n",
    "# Listing files and folders under /data/retail_db\n",
    "ls -ltr /data/retail_db\n",
    "\n",
    "# Listing files in the present working directory\n",
    "ls -ltr\n",
    "\n",
    "# Listing files in the home directory. ~ represents home directory.\n",
    "# You can find the ~ key on the left side of 1 in most of the keyboards.\n",
    "ls -ltr ~\n",
    "```"
   ]
  },
  {
   "cell_type": "code",
   "execution_count": 1,
   "id": "ace810a6",
   "metadata": {},
   "outputs": [],
   "source": [
    "import subprocess"
   ]
  },
  {
   "cell_type": "code",
   "execution_count": 2,
   "id": "87c33c72",
   "metadata": {},
   "outputs": [
    {
     "data": {
      "text/plain": [
       "b'total 0\\ndrwxrwxrwx 1 root root 4096 Nov 10 01:02 categories\\ndrwxrwxrwx 1 root root 4096 Nov 10 01:02 departments\\ndrwxrwxrwx 1 root root 4096 Nov 10 01:02 customers\\ndrwxrwxrwx 1 root root 4096 Nov 10 01:02 order_items\\ndrwxrwxrwx 1 root root 4096 Nov 10 01:02 products\\ndrwxrwxrwx 1 root root 4096 Nov 10 01:02 orders\\n'"
      ]
     },
     "execution_count": 2,
     "metadata": {},
     "output_type": "execute_result"
    }
   ],
   "source": [
    "# Output is not reader friendly.\n",
    "# Output is of type bytes\n",
    "subprocess.check_output('ls -ltr /data/retail_db', shell=True)"
   ]
  },
  {
   "cell_type": "code",
   "execution_count": 3,
   "id": "0623468a",
   "metadata": {},
   "outputs": [
    {
     "data": {
      "text/plain": [
       "'total 0\\ndrwxrwxrwx 1 root root 4096 Nov 10 01:02 categories\\ndrwxrwxrwx 1 root root 4096 Nov 10 01:02 departments\\ndrwxrwxrwx 1 root root 4096 Nov 10 01:02 customers\\ndrwxrwxrwx 1 root root 4096 Nov 10 01:02 order_items\\ndrwxrwxrwx 1 root root 4096 Nov 10 01:02 products\\ndrwxrwxrwx 1 root root 4096 Nov 10 01:02 orders\\n'"
      ]
     },
     "execution_count": 3,
     "metadata": {},
     "output_type": "execute_result"
    }
   ],
   "source": [
    "# We can decode to string and apply string functions\n",
    "# Now the output is of type string\n",
    "subprocess.check_output('ls -ltr /data/retail_db', shell=True).decode('utf-8')"
   ]
  },
  {
   "cell_type": "code",
   "execution_count": 4,
   "id": "2918f955",
   "metadata": {},
   "outputs": [
    {
     "data": {
      "text/plain": [
       "['total 0',\n",
       " 'drwxrwxrwx 1 root root 4096 Nov 10 01:02 categories',\n",
       " 'drwxrwxrwx 1 root root 4096 Nov 10 01:02 departments',\n",
       " 'drwxrwxrwx 1 root root 4096 Nov 10 01:02 customers',\n",
       " 'drwxrwxrwx 1 root root 4096 Nov 10 01:02 order_items',\n",
       " 'drwxrwxrwx 1 root root 4096 Nov 10 01:02 products',\n",
       " 'drwxrwxrwx 1 root root 4096 Nov 10 01:02 orders']"
      ]
     },
     "execution_count": 4,
     "metadata": {},
     "output_type": "execute_result"
    }
   ],
   "source": [
    "# We can use splitlines to convert this big string into list of strings.\n",
    "# splitlines will use new line character as the delimiter.\n",
    "subprocess.check_output('ls -ltr /data/retail_db', shell=True).decode('utf-8').splitlines()"
   ]
  },
  {
   "cell_type": "code",
   "execution_count": 5,
   "id": "697d92d1",
   "metadata": {},
   "outputs": [
    {
     "name": "stdout",
     "output_type": "stream",
     "text": [
      "total 0\n",
      "drwxrwxrwx 1 root root 4096 Nov 10 01:02 categories\n",
      "drwxrwxrwx 1 root root 4096 Nov 10 01:02 departments\n",
      "drwxrwxrwx 1 root root 4096 Nov 10 01:02 customers\n",
      "drwxrwxrwx 1 root root 4096 Nov 10 01:02 order_items\n",
      "drwxrwxrwx 1 root root 4096 Nov 10 01:02 products\n",
      "drwxrwxrwx 1 root root 4096 Nov 10 01:02 orders\n"
     ]
    }
   ],
   "source": [
    "# We can iterate through the list and print one item at a time.\n",
    "# Now the output will be reader friendly\n",
    "output = subprocess.check_output('ls -ltr /data/retail_db', shell=True).decode('utf-8').splitlines()\n",
    "for line in output: print(line)"
   ]
  },
  {
   "cell_type": "code",
   "execution_count": 6,
   "id": "65b48778-e961-412e-9bb7-d789859fc41a",
   "metadata": {},
   "outputs": [
    {
     "data": {
      "text/plain": [
       "['total 80',\n",
       " '-rwxrwxrwx 1 root root  5339 Nov 10 01:02 10_read_csv_into_list_of_strings.ipynb',\n",
       " '-rwxrwxrwx 1 root root  3715 Nov 10 01:02 09_overview_of_delimited_strings.ipynb',\n",
       " '-rwxrwxrwx 1 root root  9213 Nov 10 01:02 08_overview_of_modes_to_write_into_files.ipynb',\n",
       " '-rwxrwxrwx 1 root root  5141 Nov 10 01:02 07_write_string_to_text_file.ipynb',\n",
       " '-rwxrwxrwx 1 root root  4631 Nov 10 01:02 06_read_text_file_into_string.ipynb',\n",
       " '-rwxrwxrwx 1 root root  4586 Nov 10 01:02 05_overview_of_retail_data.ipynb',\n",
       " '-rwxrwxrwx 1 root root  2811 Nov 10 01:02 04_file_paths_and_names.ipynb',\n",
       " '-rwxrwxrwx 1 root root  5688 Nov 10 01:02 03_folders_and_files.ipynb',\n",
       " '-rwxrwxrwx 1 root root  1748 Nov 10 01:02 02_overview_of_file_io.ipynb',\n",
       " 'drwxrwxrwx 1 root root  4096 Nov 13 04:03 data',\n",
       " '-rwxrwxrwx 1 root root 10177 Nov 13 04:06 11_write_strings_to_file_in_append_mode.ipynb',\n",
       " '-rwxrwxrwx 1 root root  4041 Nov 13 10:33 12_managing_files_and_folders_using_python.ipynb']"
      ]
     },
     "execution_count": 6,
     "metadata": {},
     "output_type": "execute_result"
    }
   ],
   "source": [
    "subprocess.check_output('ls -ltr', shell=True).decode('utf-8').splitlines()"
   ]
  },
  {
   "cell_type": "code",
   "execution_count": 10,
   "id": "c57527f5-ce57-44aa-9481-d2ec02103411",
   "metadata": {},
   "outputs": [
    {
     "name": "stdout",
     "output_type": "stream",
     "text": [
      "/home/itversity/python-and-sql-material/13_basics_of_file_io_using_python\n"
     ]
    }
   ],
   "source": [
    "!pwd"
   ]
  },
  {
   "cell_type": "code",
   "execution_count": 7,
   "id": "cc258377-ff4d-43dc-8aee-533cb6190a56",
   "metadata": {},
   "outputs": [
    {
     "data": {
      "text/plain": [
       "['total 80',\n",
       " '-rwxrwxrwx 1 root root  1748 Nov 10 01:02 02_overview_of_file_io.ipynb',\n",
       " '-rwxrwxrwx 1 root root  5688 Nov 10 01:02 03_folders_and_files.ipynb',\n",
       " '-rwxrwxrwx 1 root root  2811 Nov 10 01:02 04_file_paths_and_names.ipynb',\n",
       " '-rwxrwxrwx 1 root root  4586 Nov 10 01:02 05_overview_of_retail_data.ipynb',\n",
       " '-rwxrwxrwx 1 root root  4631 Nov 10 01:02 06_read_text_file_into_string.ipynb',\n",
       " '-rwxrwxrwx 1 root root  5141 Nov 10 01:02 07_write_string_to_text_file.ipynb',\n",
       " '-rwxrwxrwx 1 root root  9213 Nov 10 01:02 08_overview_of_modes_to_write_into_files.ipynb',\n",
       " '-rwxrwxrwx 1 root root  3715 Nov 10 01:02 09_overview_of_delimited_strings.ipynb',\n",
       " '-rwxrwxrwx 1 root root  5339 Nov 10 01:02 10_read_csv_into_list_of_strings.ipynb',\n",
       " '-rwxrwxrwx 1 root root 10177 Nov 13 04:06 11_write_strings_to_file_in_append_mode.ipynb',\n",
       " '-rwxrwxrwx 1 root root  4041 Nov 13 10:33 12_managing_files_and_folders_using_python.ipynb',\n",
       " 'drwxrwxrwx 1 root root  4096 Nov 13 04:03 data']"
      ]
     },
     "execution_count": 7,
     "metadata": {},
     "output_type": "execute_result"
    }
   ],
   "source": [
    "subprocess.check_output('ls -l', shell=True).decode('utf-8').splitlines()"
   ]
  },
  {
   "cell_type": "code",
   "execution_count": 9,
   "id": "ab0a247c-d19c-49b4-a243-402e8f103965",
   "metadata": {},
   "outputs": [
    {
     "data": {
      "text/plain": [
       "['total 4',\n",
       " '-rwxr-xr-x 1 root root  117 Nov 10 15:39 labrequirements.txt',\n",
       " 'drwxrwxrwx 1 root root 4096 Nov 13 03:40 python-and-sql-material']"
      ]
     },
     "execution_count": 9,
     "metadata": {},
     "output_type": "execute_result"
    }
   ],
   "source": [
    "subprocess.check_output('ls -ltr ~', shell=True).decode('utf-8').splitlines()"
   ]
  },
  {
   "cell_type": "code",
   "execution_count": 11,
   "id": "7faefc9f-3765-464e-a2e1-61c000a055f7",
   "metadata": {},
   "outputs": [
    {
     "data": {
      "text/plain": [
       "['total 0',\n",
       " '-rwxrwxrwx 1 root      root      41 Nov 10 01:02 sample_data.txt',\n",
       " '-rwxrwxrwx 1 root      root      27 Nov 10 01:02 overwrite.txt',\n",
       " '-rwxrwxrwx 1 root      root      27 Nov 10 01:02 new_file.txt',\n",
       " '-rwxrwxrwx 1 root      root      54 Nov 10 01:02 append.txt',\n",
       " '-rw-r--r-- 1 itversity itversity 59 Nov 13 04:03 departments.txt']"
      ]
     },
     "execution_count": 11,
     "metadata": {},
     "output_type": "execute_result"
    }
   ],
   "source": [
    "subprocess.check_output('ls -ltr data', shell=True).decode('utf-8').splitlines()"
   ]
  },
  {
   "cell_type": "code",
   "execution_count": null,
   "id": "996870b4-6c0b-4f38-9f18-1b3fbc2cae80",
   "metadata": {},
   "outputs": [],
   "source": []
  }
 ],
 "metadata": {
  "kernelspec": {
   "display_name": "Python 3 (ipykernel)",
   "language": "python",
   "name": "python3"
  },
  "language_info": {
   "codemirror_mode": {
    "name": "ipython",
    "version": 3
   },
   "file_extension": ".py",
   "mimetype": "text/x-python",
   "name": "python",
   "nbconvert_exporter": "python",
   "pygments_lexer": "ipython3",
   "version": "3.8.12"
  }
 },
 "nbformat": 4,
 "nbformat_minor": 5
}
