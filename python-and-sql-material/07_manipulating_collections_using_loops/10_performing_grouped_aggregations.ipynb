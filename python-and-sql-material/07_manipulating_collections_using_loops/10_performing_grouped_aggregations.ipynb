{
  "cells": [
    {
      "cell_type": "markdown",
      "metadata": {},
      "source": [
        "## Performing Aggregations - Grouped\n",
        "\n",
        "Here are some of the examples for grouped aggregations.\n",
        "* Get number of employees for each department\n",
        "* Get daily revenue for a given month (aggregation for a given day and filtering based up on month).\n",
        "* Number of courses enrolled by each student\n",
        "* Number of students enrolled for each course"
      ]
    },
    {
      "cell_type": "markdown",
      "metadata": {},
      "source": [
        "```{note}\n",
        "Let us perform couple of tasks related to grouped aggregations.\n",
        "```"
      ]
    },
    {
      "cell_type": "code",
      "execution_count": null,
      "metadata": {},
      "outputs": [],
      "source": [
        "%run 07_preparing_data_sets.ipynb"
      ]
    },
    {
      "cell_type": "markdown",
      "metadata": {},
      "source": [
        "### Task 1\n",
        "\n",
        "Create a function get_count_by_order_status which takes orders list as argument and returns a dict which contain order_status and corresponding count."
      ]
    },
    {
      "cell_type": "code",
      "execution_count": null,
      "metadata": {},
      "outputs": [],
      "source": [
        "def get_count_by_order_status(orders):\n",
        "    order_count = {} # dict\n",
        "    for order in orders:\n",
        "        order_status = order.split(',')[3]\n",
        "        if order_status in order_count:\n",
        "            # if order_count contains key, \n",
        "            # then increment the existing value by 1\n",
        "            order_count[order_status] += 1\n",
        "        else: \n",
        "            # if order_count does not contain key,\n",
        "            # then add new element to order_count\n",
        "            order_count[order_status] = 1\n",
        "    return order_count"
      ]
    },
    {
      "cell_type": "code",
      "execution_count": null,
      "metadata": {},
      "outputs": [],
      "source": [
        "get_count_by_order_status(orders)"
      ]
    },
    {
      "cell_type": "markdown",
      "metadata": {},
      "source": [
        "### Task 2\n",
        "\n",
        "Create a function get_revenue_per_order which takes order_items list as argument and returns a dict which contain order_item_order_id and corresponding quantity as well as order_revenue.\n",
        "* Function will take order_items as argument.\n",
        "* It shall return a list of orders with corresponding quantity and revenue. You can either use `list` or `dict` or `tuple` for quantity and revenue."
      ]
    },
    {
      "cell_type": "markdown",
      "metadata": {},
      "source": [
        "```{note}\n",
        "This is an example to get order_id and corresponding quantity as well as revenue. For each order_id, quantity and revenue are treated as list.\n",
        "```"
      ]
    },
    {
      "cell_type": "code",
      "execution_count": null,
      "metadata": {},
      "outputs": [],
      "source": [
        "def get_revenue_per_order(order_items):\n",
        "    revenue_per_order = {}\n",
        "    for order_item in order_items:\n",
        "        order_item_order_id = int(order_item.split(',')[1])\n",
        "        order_item_quantity = int(order_item.split(',')[3])\n",
        "        order_item_subtotal = float(order_item.split(',')[4])\n",
        "        order_metrics = [order_item_quantity, order_item_subtotal]\n",
        "        if revenue_per_order.get(order_item_order_id):\n",
        "            # if revenue_per_order contains key, \n",
        "            # then add order_item_subtotal to existing value\n",
        "            revenue_per_order[order_item_order_id][0] += order_metrics[0]\n",
        "            revenue_per_order[order_item_order_id][1] += order_metrics[1]\n",
        "        else:\n",
        "            # if revenue_per_order does not contain key, \n",
        "            # then add new element to revenue_per_order\n",
        "            revenue_per_order[order_item_order_id] = order_metrics\n",
        "    return revenue_per_order"
      ]
    },
    {
      "cell_type": "code",
      "execution_count": null,
      "metadata": {},
      "outputs": [],
      "source": [
        "list(get_revenue_per_order(order_items).items())[:10]"
      ]
    },
    {
      "cell_type": "markdown",
      "metadata": {},
      "source": [
        "```{note}\n",
        "This is an example to get order_id and corresponding quantity as well as revenue. For each order_id, quantity and revenue are treated as dict.\n",
        "```"
      ]
    },
    {
      "cell_type": "code",
      "execution_count": null,
      "metadata": {},
      "outputs": [],
      "source": [
        "def get_revenue_per_order(order_items):\n",
        "    revenue_per_order = {}\n",
        "    for order_item in order_items:\n",
        "        order_item_order_id = int(order_item.split(',')[1])\n",
        "        order_item_quantity = int(order_item.split(',')[3])\n",
        "        order_item_subtotal = float(order_item.split(',')[4])\n",
        "        order_metrics = {'order_item_quantity': order_item_quantity, 'order_item_subtotal': order_item_subtotal}\n",
        "        if revenue_per_order.get(order_item_order_id):\n",
        "            # if revenue_per_order contains key, \n",
        "            # then add order_item_subtotal to existing value\n",
        "            revenue_per_order[order_item_order_id]['order_item_quantity'] += order_metrics['order_item_quantity']\n",
        "            revenue_per_order[order_item_order_id]['order_item_subtotal'] += order_metrics['order_item_subtotal']\n",
        "        else:\n",
        "            # if revenue_per_order does not contain key, \n",
        "            # then add new element to revenue_per_order\n",
        "            revenue_per_order[order_item_order_id] = order_metrics\n",
        "    return revenue_per_order"
      ]
    },
    {
      "cell_type": "code",
      "execution_count": null,
      "metadata": {},
      "outputs": [],
      "source": [
        "list(get_revenue_per_order(order_items).items())[:10]"
      ]
    },
    {
      "cell_type": "markdown",
      "metadata": {},
      "source": [
        "### Task 3\n",
        "\n",
        "Create a function get_order_count_by_month which takes orders list and order_status as arguments and returns a dict which contain order_month and count. \n",
        "* We only have to count those orders which belong to the passed order_status.\n",
        "* If order_status is not passed then we need to count all records."
      ]
    },
    {
      "cell_type": "code",
      "execution_count": null,
      "metadata": {},
      "outputs": [],
      "source": [
        "def get_order_count_by_month(orders, order_status='ALL'):\n",
        "    order_count = {}\n",
        "    for order in orders:\n",
        "        order_month = order.split(',')[1][:7]\n",
        "        l_order_status = order.split(',')[3]\n",
        "        if order_status == 'ALL' or l_order_status == order_status:\n",
        "            if order_month in order_count: \n",
        "                order_count[order_month] += 1\n",
        "            else: \n",
        "                order_count[order_month] = 1\n",
        "    return order_count"
      ]
    },
    {
      "cell_type": "code",
      "execution_count": null,
      "metadata": {},
      "outputs": [],
      "source": [
        "get_order_count_by_month(orders)"
      ]
    },
    {
      "cell_type": "code",
      "execution_count": null,
      "metadata": {},
      "outputs": [],
      "source": [
        "get_order_count_by_month(orders, 'COMPLETE')"
      ]
    },
    {
      "cell_type": "code",
      "execution_count": null,
      "metadata": {},
      "outputs": [],
      "source": [
        "get_order_count_by_month(orders, 'CLOSED')"
      ]
    }
  ],
  "metadata": {
    "kernelspec": {
      "display_name": "Python 3",
      "language": "python",
      "name": "python3"
    },
    "language_info": {
      "codemirror_mode": {
        "name": "ipython",
        "version": 3
      },
      "file_extension": ".py",
      "mimetype": "text/x-python",
      "name": "python",
      "nbconvert_exporter": "python",
      "pygments_lexer": "ipython3",
      "version": "3.6.12"
    }
  },
  "nbformat": 4,
  "nbformat_minor": 4
}