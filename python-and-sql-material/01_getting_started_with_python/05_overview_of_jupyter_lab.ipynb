{
  "cells": [
    {
      "cell_type": "markdown",
      "metadata": {},
      "source": [
        "## Overview of Jupyter Lab\n",
        "\n",
        "Jupyter Lab is a wrapper around Jupyter Notebook to explore and learn Python in interactive fashion. Let us understand how we can create Jupyter Notebook using Jupyter Lab.",
        "* Relationship between Jupyter Notebook and iPython\n",
        "* Naming Standards\n",
        "* Managing Cells\n",
        "* Cell Types\n",
        "* Getting help using Jupyter Cells"
      ]
    },
    {
      "cell_type": "markdown",
      "metadata": {
        "pycharm": {
          "name": "#%% md\n"
        }
      },
      "source": [
        "### Tasks\n",
        "\n",
        "Let's perform tasks to understand Jupyter Notebook environment better.\n",
        "\n",
        "* Create Jupyter Notebook by name **Getting Started**\n",
        "* View classic Jupyter Notebook\n",
        "* Launch Terminal (applicable for Linux or Mac based systems on which Jupyter is setup)\n",
        "* Import `python_version` from `platform`\n",
        "* Get help on `python_version` as part of the cell\n",
        "* Create cell and write the code to get the version of Python.\n",
        "\n",
        "```\n",
        "from platform import python_version\n",
        "print(python_version())\n",
        "```"
      ]
    },
    {
      "cell_type": "code",
      "execution_count": null,
      "metadata": {},
      "outputs": [],
      "source": [
        "from platform import python_version"
      ]
    },
    {
      "cell_type": "code",
      "execution_count": null,
      "metadata": {},
      "outputs": [],
      "source": [
        "python_version?"
      ]
    },
    {
      "cell_type": "code",
      "execution_count": null,
      "metadata": {
        "pycharm": {
          "name": "#%%\n"
        }
      },
      "outputs": [],
      "source": [
        "print(python_version())"
      ]
    },
    {
      "cell_type": "code",
      "execution_count": null,
      "metadata": {},
      "outputs": [],
      "source": []
    }
  ],
  "metadata": {
    "kernelspec": {
      "display_name": "Python 3",
      "language": "python",
      "name": "python3"
    },
    "language_info": {
      "codemirror_mode": {
        "name": "ipython",
        "version": 3
      },
      "file_extension": ".py",
      "mimetype": "text/x-python",
      "name": "python",
      "nbconvert_exporter": "python",
      "pygments_lexer": "ipython3",
      "version": "3.6.12"
    }
  },
  "nbformat": 4,
  "nbformat_minor": 4
}